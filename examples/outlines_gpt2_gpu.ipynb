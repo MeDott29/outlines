{
  "cells": [
    {
      "cell_type": "code",
      "execution_count": 1,
      "metadata": {
        "id": "yKBcdeO7eT5P"
      },
      "outputs": [
        {
          "name": "stdout",
          "output_type": "stream",
          "text": [
            "Requirement already satisfied: instructor in /home/m/venv/lib/python3.11/site-packages (0.3.5)\n",
            "Requirement already satisfied: transformers in /home/m/venv/lib/python3.11/site-packages (4.35.2)\n",
            "Requirement already satisfied: datasets in /home/m/venv/lib/python3.11/site-packages (2.15.0)\n",
            "Requirement already satisfied: outlines in /home/m/venv/lib/python3.11/site-packages (0.0.12)\n",
            "Collecting accelerate\n",
            "  Obtaining dependency information for accelerate from https://files.pythonhosted.org/packages/f7/fc/c55e5a2da345c9a24aa2e1e0f60eb2ca290b6a41be82da03a6d4baec4f99/accelerate-0.25.0-py3-none-any.whl.metadata\n",
            "  Downloading accelerate-0.25.0-py3-none-any.whl.metadata (18 kB)\n",
            "Requirement already satisfied: docstring-parser<0.16,>=0.15 in /home/m/venv/lib/python3.11/site-packages (from instructor) (0.15)\n",
            "Requirement already satisfied: openai<2.0.0,>=1.1.0 in /home/m/venv/lib/python3.11/site-packages (from instructor) (1.3.3)\n",
            "Requirement already satisfied: pydantic<3.0.0,>=2.0.2 in /home/m/venv/lib/python3.11/site-packages (from instructor) (2.5.1)\n",
            "Requirement already satisfied: typer<0.10.0,>=0.9.0 in /home/m/venv/lib/python3.11/site-packages (from instructor) (0.9.0)\n",
            "Requirement already satisfied: filelock in /home/m/venv/lib/python3.11/site-packages (from transformers) (3.13.1)\n",
            "Requirement already satisfied: huggingface-hub<1.0,>=0.16.4 in /home/m/venv/lib/python3.11/site-packages (from transformers) (0.19.4)\n",
            "Requirement already satisfied: numpy>=1.17 in /home/m/venv/lib/python3.11/site-packages (from transformers) (1.26.2)\n",
            "Requirement already satisfied: packaging>=20.0 in /home/m/venv/lib/python3.11/site-packages (from transformers) (23.2)\n",
            "Requirement already satisfied: pyyaml>=5.1 in /home/m/venv/lib/python3.11/site-packages (from transformers) (6.0.1)\n",
            "Requirement already satisfied: regex!=2019.12.17 in /home/m/venv/lib/python3.11/site-packages (from transformers) (2023.10.3)\n",
            "Requirement already satisfied: requests in /home/m/venv/lib/python3.11/site-packages (from transformers) (2.31.0)\n",
            "Requirement already satisfied: tokenizers<0.19,>=0.14 in /home/m/venv/lib/python3.11/site-packages (from transformers) (0.15.0)\n",
            "Requirement already satisfied: safetensors>=0.3.1 in /home/m/venv/lib/python3.11/site-packages (from transformers) (0.4.0)\n",
            "Requirement already satisfied: tqdm>=4.27 in /home/m/venv/lib/python3.11/site-packages (from transformers) (4.66.1)\n",
            "Requirement already satisfied: pyarrow>=8.0.0 in /home/m/venv/lib/python3.11/site-packages (from datasets) (14.0.1)\n",
            "Requirement already satisfied: pyarrow-hotfix in /home/m/venv/lib/python3.11/site-packages (from datasets) (0.5)\n",
            "Requirement already satisfied: dill<0.3.8,>=0.3.0 in /home/m/venv/lib/python3.11/site-packages (from datasets) (0.3.7)\n",
            "Requirement already satisfied: pandas in /home/m/venv/lib/python3.11/site-packages (from datasets) (2.1.3)\n",
            "Requirement already satisfied: xxhash in /home/m/venv/lib/python3.11/site-packages (from datasets) (3.4.1)\n",
            "Requirement already satisfied: multiprocess in /home/m/venv/lib/python3.11/site-packages (from datasets) (0.70.15)\n",
            "Requirement already satisfied: fsspec[http]<=2023.10.0,>=2023.1.0 in /home/m/venv/lib/python3.11/site-packages (from datasets) (2023.10.0)\n",
            "Requirement already satisfied: aiohttp in /home/m/venv/lib/python3.11/site-packages (from datasets) (3.9.0)\n",
            "Requirement already satisfied: interegular in /home/m/venv/lib/python3.11/site-packages (from outlines) (0.3.2)\n",
            "Requirement already satisfied: jinja2 in /home/m/venv/lib/python3.11/site-packages (from outlines) (3.1.2)\n",
            "Requirement already satisfied: lark in /home/m/venv/lib/python3.11/site-packages (from outlines) (1.1.8)\n",
            "Requirement already satisfied: nest-asyncio in /home/m/venv/lib/python3.11/site-packages (from outlines) (1.5.8)\n",
            "Requirement already satisfied: pillow in /home/m/venv/lib/python3.11/site-packages (from outlines) (10.1.0)\n",
            "Requirement already satisfied: perscache in /home/m/venv/lib/python3.11/site-packages (from outlines) (0.6.1)\n",
            "Requirement already satisfied: scipy in /home/m/venv/lib/python3.11/site-packages (from outlines) (1.11.4)\n",
            "Requirement already satisfied: tenacity in /home/m/venv/lib/python3.11/site-packages (from outlines) (8.2.3)\n",
            "Requirement already satisfied: torch in /home/m/venv/lib/python3.11/site-packages (from outlines) (2.2.0.dev20231130+cu121)\n",
            "Requirement already satisfied: numba in /home/m/venv/lib/python3.11/site-packages (from outlines) (0.58.1)\n",
            "Requirement already satisfied: joblib in /home/m/venv/lib/python3.11/site-packages (from outlines) (1.3.2)\n",
            "Requirement already satisfied: referencing in /home/m/venv/lib/python3.11/site-packages (from outlines) (0.31.0)\n",
            "Requirement already satisfied: jsonschema in /home/m/venv/lib/python3.11/site-packages (from outlines) (4.20.0)\n",
            "Requirement already satisfied: psutil in /home/m/venv/lib/python3.11/site-packages (from accelerate) (5.9.6)\n",
            "Requirement already satisfied: attrs>=17.3.0 in /home/m/venv/lib/python3.11/site-packages (from aiohttp->datasets) (23.1.0)\n",
            "Requirement already satisfied: multidict<7.0,>=4.5 in /home/m/venv/lib/python3.11/site-packages (from aiohttp->datasets) (6.0.4)\n",
            "Requirement already satisfied: yarl<2.0,>=1.0 in /home/m/venv/lib/python3.11/site-packages (from aiohttp->datasets) (1.9.3)\n",
            "Requirement already satisfied: frozenlist>=1.1.1 in /home/m/venv/lib/python3.11/site-packages (from aiohttp->datasets) (1.4.0)\n",
            "Requirement already satisfied: aiosignal>=1.1.2 in /home/m/venv/lib/python3.11/site-packages (from aiohttp->datasets) (1.3.1)\n",
            "Requirement already satisfied: typing-extensions>=3.7.4.3 in /home/m/venv/lib/python3.11/site-packages (from huggingface-hub<1.0,>=0.16.4->transformers) (4.8.0)\n",
            "Requirement already satisfied: anyio<4,>=3.5.0 in /home/m/venv/lib/python3.11/site-packages (from openai<2.0.0,>=1.1.0->instructor) (3.7.1)\n",
            "Requirement already satisfied: distro<2,>=1.7.0 in /home/m/venv/lib/python3.11/site-packages (from openai<2.0.0,>=1.1.0->instructor) (1.8.0)\n",
            "Requirement already satisfied: httpx<1,>=0.23.0 in /home/m/venv/lib/python3.11/site-packages (from openai<2.0.0,>=1.1.0->instructor) (0.25.1)\n",
            "Requirement already satisfied: annotated-types>=0.4.0 in /home/m/venv/lib/python3.11/site-packages (from pydantic<3.0.0,>=2.0.2->instructor) (0.6.0)\n",
            "Requirement already satisfied: pydantic-core==2.14.3 in /home/m/venv/lib/python3.11/site-packages (from pydantic<3.0.0,>=2.0.2->instructor) (2.14.3)\n",
            "Requirement already satisfied: charset-normalizer<4,>=2 in /home/m/venv/lib/python3.11/site-packages (from requests->transformers) (3.3.2)\n",
            "Requirement already satisfied: idna<4,>=2.5 in /home/m/venv/lib/python3.11/site-packages (from requests->transformers) (3.4)\n",
            "Requirement already satisfied: urllib3<3,>=1.21.1 in /home/m/venv/lib/python3.11/site-packages (from requests->transformers) (2.1.0)\n",
            "Requirement already satisfied: certifi>=2017.4.17 in /home/m/venv/lib/python3.11/site-packages (from requests->transformers) (2023.11.17)\n",
            "Requirement already satisfied: sympy in /home/m/venv/lib/python3.11/site-packages (from torch->outlines) (1.12)\n",
            "Requirement already satisfied: networkx in /home/m/venv/lib/python3.11/site-packages (from torch->outlines) (3.2.1)\n",
            "Requirement already satisfied: nvidia-cuda-nvrtc-cu12==12.1.105 in /home/m/venv/lib/python3.11/site-packages (from torch->outlines) (12.1.105)\n",
            "Requirement already satisfied: nvidia-cuda-runtime-cu12==12.1.105 in /home/m/venv/lib/python3.11/site-packages (from torch->outlines) (12.1.105)\n",
            "Requirement already satisfied: nvidia-cuda-cupti-cu12==12.1.105 in /home/m/venv/lib/python3.11/site-packages (from torch->outlines) (12.1.105)\n",
            "Requirement already satisfied: nvidia-cudnn-cu12==8.9.2.26 in /home/m/venv/lib/python3.11/site-packages (from torch->outlines) (8.9.2.26)\n",
            "Requirement already satisfied: nvidia-cublas-cu12==12.1.3.1 in /home/m/venv/lib/python3.11/site-packages (from torch->outlines) (12.1.3.1)\n",
            "Requirement already satisfied: nvidia-cufft-cu12==11.0.2.54 in /home/m/venv/lib/python3.11/site-packages (from torch->outlines) (11.0.2.54)\n",
            "Requirement already satisfied: nvidia-curand-cu12==10.3.2.106 in /home/m/venv/lib/python3.11/site-packages (from torch->outlines) (10.3.2.106)\n",
            "Requirement already satisfied: nvidia-cusolver-cu12==11.4.5.107 in /home/m/venv/lib/python3.11/site-packages (from torch->outlines) (11.4.5.107)\n",
            "Requirement already satisfied: nvidia-cusparse-cu12==12.1.0.106 in /home/m/venv/lib/python3.11/site-packages (from torch->outlines) (12.1.0.106)\n",
            "Requirement already satisfied: nvidia-nccl-cu12==2.19.3 in /home/m/venv/lib/python3.11/site-packages (from torch->outlines) (2.19.3)\n",
            "Requirement already satisfied: nvidia-nvtx-cu12==12.1.105 in /home/m/venv/lib/python3.11/site-packages (from torch->outlines) (12.1.105)\n",
            "Requirement already satisfied: pytorch-triton==2.1.0+6e4932cda8 in /home/m/venv/lib/python3.11/site-packages (from torch->outlines) (2.1.0+6e4932cda8)\n",
            "Requirement already satisfied: nvidia-nvjitlink-cu12 in /home/m/venv/lib/python3.11/site-packages (from nvidia-cusolver-cu12==11.4.5.107->torch->outlines) (12.3.101)\n",
            "Requirement already satisfied: click<9.0.0,>=7.1.1 in /home/m/venv/lib/python3.11/site-packages (from typer<0.10.0,>=0.9.0->instructor) (8.1.7)\n",
            "Requirement already satisfied: MarkupSafe>=2.0 in /home/m/venv/lib/python3.11/site-packages (from jinja2->outlines) (2.1.3)\n",
            "Requirement already satisfied: jsonschema-specifications>=2023.03.6 in /home/m/venv/lib/python3.11/site-packages (from jsonschema->outlines) (2023.11.1)\n",
            "Requirement already satisfied: rpds-py>=0.7.1 in /home/m/venv/lib/python3.11/site-packages (from jsonschema->outlines) (0.13.1)\n",
            "Requirement already satisfied: llvmlite<0.42,>=0.41.0dev0 in /home/m/venv/lib/python3.11/site-packages (from numba->outlines) (0.41.1)\n",
            "Requirement already satisfied: python-dateutil>=2.8.2 in /home/m/venv/lib/python3.11/site-packages (from pandas->datasets) (2.8.2)\n",
            "Requirement already satisfied: pytz>=2020.1 in /home/m/venv/lib/python3.11/site-packages (from pandas->datasets) (2023.3.post1)\n",
            "Requirement already satisfied: tzdata>=2022.1 in /home/m/venv/lib/python3.11/site-packages (from pandas->datasets) (2023.3)\n",
            "Requirement already satisfied: beartype in /home/m/venv/lib/python3.11/site-packages (from perscache->outlines) (0.16.4)\n",
            "Requirement already satisfied: cloudpickle in /home/m/venv/lib/python3.11/site-packages (from perscache->outlines) (3.0.0)\n",
            "Requirement already satisfied: icontract in /home/m/venv/lib/python3.11/site-packages (from perscache->outlines) (2.6.6)\n",
            "Requirement already satisfied: sniffio>=1.1 in /home/m/venv/lib/python3.11/site-packages (from anyio<4,>=3.5.0->openai<2.0.0,>=1.1.0->instructor) (1.3.0)\n",
            "Requirement already satisfied: httpcore in /home/m/venv/lib/python3.11/site-packages (from httpx<1,>=0.23.0->openai<2.0.0,>=1.1.0->instructor) (1.0.2)\n",
            "Requirement already satisfied: six>=1.5 in /home/m/venv/lib/python3.11/site-packages (from python-dateutil>=2.8.2->pandas->datasets) (1.16.0)\n",
            "Requirement already satisfied: asttokens<3,>=2 in /home/m/venv/lib/python3.11/site-packages (from icontract->perscache->outlines) (2.4.1)\n",
            "Requirement already satisfied: mpmath>=0.19 in /home/m/venv/lib/python3.11/site-packages (from sympy->torch->outlines) (1.3.0)\n",
            "Requirement already satisfied: h11<0.15,>=0.13 in /home/m/venv/lib/python3.11/site-packages (from httpcore->httpx<1,>=0.23.0->openai<2.0.0,>=1.1.0->instructor) (0.14.0)\n",
            "Downloading accelerate-0.25.0-py3-none-any.whl (265 kB)\n",
            "\u001b[2K   \u001b[90m━━━━━━━━━━━━━━━━━━━━━━━━━━━━━━━━━━━━━━━━\u001b[0m \u001b[32m265.7/265.7 kB\u001b[0m \u001b[31m1.9 MB/s\u001b[0m eta \u001b[36m0:00:00\u001b[0ma \u001b[36m0:00:01\u001b[0mm\n",
            "\u001b[?25hInstalling collected packages: accelerate\n",
            "Successfully installed accelerate-0.25.0\n",
            "\n",
            "\u001b[1m[\u001b[0m\u001b[34;49mnotice\u001b[0m\u001b[1;39;49m]\u001b[0m\u001b[39;49m A new release of pip is available: \u001b[0m\u001b[31;49m23.2.1\u001b[0m\u001b[39;49m -> \u001b[0m\u001b[32;49m23.3.1\u001b[0m\n",
            "\u001b[1m[\u001b[0m\u001b[34;49mnotice\u001b[0m\u001b[1;39;49m]\u001b[0m\u001b[39;49m To update, run: \u001b[0m\u001b[32;49mpip install --upgrade pip\u001b[0m\n",
            "fatal: destination path 'outlines' already exists and is not an empty directory.\n"
          ]
        }
      ],
      "source": [
        "!pip install instructor transformers datasets outlines accelerate\n",
        "!git clone https://github.com/outlines-dev/outlines.git"
      ]
    },
    {
      "cell_type": "code",
      "execution_count": 2,
      "metadata": {
        "id": "VFBkfUjRfeLl"
      },
      "outputs": [],
      "source": [
        "import sys\n",
        "sys.path.append('/content/outlines')"
      ]
    },
    {
      "cell_type": "code",
      "execution_count": null,
      "metadata": {
        "id": "aEiGfieveo2p"
      },
      "outputs": [],
      "source": [
        "import torch\n",
        "import outlines.text.generate as generate\n",
        "import outlines.models as models\n",
        "device = torch.device('cuda')\n",
        "def transformers(\n",
        "    model_name: str,\n",
        "    device: device,\n",
        "    model_kwargs: dict = {},\n",
        "    tokenizer_kwargs: dict = {},\n",
        "):\n",
        "    from transformers import AutoModelForCausalLM\n",
        "\n",
        "    if device is not None:\n",
        "        model_kwargs[\"device_map\"] = device\n",
        "\n",
        "    model = AutoModelForCausalLM.from_pretrained(model_name, **model_kwargs)\n",
        "    model.to(device)  # Move the model to the GPU if available\n",
        "    tokenizer = TransformerTokenizer(model_name, **tokenizer_kwargs)\n",
        "\n",
        "    return Transformer(model, tokenizer)\n",
        "\n",
        "\n",
        "\n",
        "model = models.transformers(\"gpt2\", device=device)\n",
        "answer = generate.continuation(model, stop=[\".\"])(\"Tell me a one-sentence joke.\")"
      ]
    },
    {
      "cell_type": "code",
      "execution_count": 8,
      "metadata": {
        "colab": {
          "base_uri": "https://localhost:8080/"
        },
        "id": "CZ-SFtvcgmLL",
        "outputId": "b672e84f-a157-48f0-ee63-2c073235f64f"
      },
      "outputs": [
        {
          "name": "stdout",
          "output_type": "stream",
          "text": [
            "Prompt 0: .\n",
            "Prompt 1: .\n",
            "Prompt 2:  No\n",
            "\n",
            "October Caterpillars for point systems\n",
            "\n",
            "There are five resin‐rotated Caterpillar Caterpillars flying on PÜRSO<i>\n",
            "Prompt 3:  Recipe: Butter Crunch, Black Tea Pasta\n",
            "\n",
            "\n",
            "While pinch of salt is key for tightly packed sandwiches, the name is a significant blessing\n",
            "Prompt 4: /18/2015 3:17:43PM iAmAni 6 3 8 Klan Korsnout Throwdown Hardsimilars New offscreen Knights/Sharks I could see it touching but show that that these guys are attempting to say something so inLitimate 800 Pen, I need my permission from a player who can get what I want because his hand is thicker/busier than mine even though there is a second pass going, Gallfings, knuckles I know what it looks like then\n",
            "\n",
            "Do you think Peanut Hay Nutch ports his own side bar textures via our toolkit? How do you see the 15% refermentation of his incoming Tribes sprites? +6-10 considerations Chad Dubal\n",
            "Prompt 5: :30PM – 30 PM\n",
            "\n",
            "Easy Hills 559 Main Street\n",
            "\n",
            "Edina High School\n",
            "\n",
            "W!182\n",
            "\n",
            "Philly, PA 20241 Admission: Free Entry Free parking is available around the campus – so connect to the MC to get there\n",
            "Prompt 6: :507,818\n",
            "\n",
            "*) At 8:25 I switched to tryve arch64++ and met current Fibbsocket implementation and merged my) installation into the lib/fibbsocket repository (and didn't think I should blindly use it??!)\n",
            "\n",
            "*) Lots of things to see and to slack off when doing similar problems (*/games, extends)]\n",
            "\n",
            "I sighed and tried to sleep, but changed the package manager's settings for fit\n",
            "Prompt 7: 11 shows 6\n",
            "Prompt 8: : That the Hybrid Dritmo 7 mph calculator is still working..\n",
            "Prompt 9: :35 PM\n",
            "\n",
            "\n",
            "This is a must click that you have read before\n"
          ]
        },
        {
          "name": "stderr",
          "output_type": "stream",
          "text": [
            "Bad pipe message: %s [b'\"Microsoft Edge\";v=\"119\", \"Chromium\";v=\"119\", \"Not?A_Bran']\n",
            "Bad pipe message: %s [b';v=\"24\"\\r\\nsec-ch-ua-mobile: ?0\\r\\nsec-ch-ua-platform: \"Windows\"\\r\\nUpgrade-Insecure-Requests: 1\\r\\nUser-Ag']\n",
            "Bad pipe message: %s [b't: Mozilla/5.0 (Windows NT 10.0; Win64; x64) AppleWebKit/537.36 (KHTML, like Gecko) Chrome/119.0.0.0']\n",
            "Bad pipe message: %s [b'afari/537.36 Edg/119.0.0.0\\r\\nAcc', b't: text/html,application/xhtml+xml,application/xml;q=0.9,image/webp,image/apng,*/*;q=0.8,application']\n",
            "Bad pipe message: %s [b'ol: max-age=0\\r\\nsec-ch-ua: \"Microsoft Edge\";v=\"119\", \"Chromium\";v=\"119\", \"Not?A_Brand\";v=\"24\"\\r\\nsec-ch-ua-mobile: ?0\\r']\n",
            "Bad pipe message: %s [b'ec-ch-ua-', b'atform: \"Windows\"\\r\\nUpgrade-Insecure-Requests: 1\\r\\nUser-Agent: Mozilla/5.0 (Windows NT 10.0; Win64; x64) AppleWeb']\n",
            "Bad pipe message: %s [b't/537.36 (KHTML, like Gecko) Chrome/119.0.0.0 Safari/537.36 Edg/119.0.0.0\\r', b'ccept: te', b'/html,application/xhtml+xml,application/xml;q=0.9,image/webp,image/apng,*/*;q=0.8,application/signed-exchange;v=b3;q=0.']\n",
            "Bad pipe message: %s [b'\\nSec-Fetch-Site: none\\r\\nSec-Fetch-Mode: navigate\\r\\nSec-F', b'ch-User: ?1\\r\\nSec-Fetch-Dest: document\\r\\nAccept-Encoding: gzip, deflate, br\\r\\nAccept-Language: en-US,en']\n"
          ]
        }
      ],
      "source": [
        "prompts = [\"Prompt {}\".format(i) for i in range(10)]  # Replace 10000 with the number of prompts you want\n",
        "results = []\n",
        "for prompt in prompts:\n",
        "    result = generate.continuation(model, stop=[\".\"])(prompt)\n",
        "    results.append(result)\n",
        "\n",
        "# Print the results\n",
        "for i, result in enumerate(results):\n",
        "    print(f\"Prompt {i}: {result}\")"
      ]
    }
  ],
  "metadata": {
    "accelerator": "GPU",
    "colab": {
      "gpuType": "T4",
      "provenance": []
    },
    "kernelspec": {
      "display_name": "Python 3",
      "name": "python3"
    },
    "language_info": {
      "codemirror_mode": {
        "name": "ipython",
        "version": 3
      },
      "file_extension": ".py",
      "mimetype": "text/x-python",
      "name": "python",
      "nbconvert_exporter": "python",
      "pygments_lexer": "ipython3",
      "version": "3.11.6"
    }
  },
  "nbformat": 4,
  "nbformat_minor": 0
}
